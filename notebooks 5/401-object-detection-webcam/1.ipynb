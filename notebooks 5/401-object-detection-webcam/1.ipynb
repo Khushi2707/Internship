{
 "cells": [
  {
   "cell_type": "code",
   "execution_count": 6,
   "id": "994a5336-afec-4361-a1b7-99ff0e5b2102",
   "metadata": {},
   "outputs": [],
   "source": [
    "from openvino.runtime import Core\n",
    "ie = Core()\n"
   ]
  },
  {
   "cell_type": "code",
   "execution_count": 7,
   "id": "32fb3014-94d6-4895-8c59-bba2a9a03070",
   "metadata": {},
   "outputs": [
    {
     "name": "stdout",
     "output_type": "stream",
     "text": [
      "CPU: Intel(R) Core(TM) i5-10210U CPU @ 1.60GHz\n",
      "GPU: Intel(R) UHD Graphics (iGPU)\n"
     ]
    }
   ],
   "source": [
    "devices = ie.available_devices\n",
    "for device in devices:\n",
    "    device_name = ie.get_property(device, \"FULL_DEVICE_NAME\")\n",
    "    print(f\"{device}: {device_name}\")"
   ]
  },
  {
   "cell_type": "code",
   "execution_count": null,
   "id": "84e8b8ef-878b-40a7-9e7f-55730a024c0e",
   "metadata": {},
   "outputs": [],
   "source": []
  },
  {
   "cell_type": "code",
   "execution_count": null,
   "id": "20efb117-1797-4b86-9334-1fd63da8eb3d",
   "metadata": {},
   "outputs": [],
   "source": []
  },
  {
   "cell_type": "code",
   "execution_count": null,
   "id": "39224389-00ec-4c4c-8be2-c85a5565927e",
   "metadata": {},
   "outputs": [],
   "source": []
  },
  {
   "cell_type": "code",
   "execution_count": null,
   "id": "9cd8e542-d36c-44a7-9cb8-17447df594e5",
   "metadata": {},
   "outputs": [],
   "source": []
  }
 ],
 "metadata": {
  "kernelspec": {
   "display_name": "Python 3 (ipykernel)",
   "language": "python",
   "name": "python3"
  },
  "language_info": {
   "codemirror_mode": {
    "name": "ipython",
    "version": 3
   },
   "file_extension": ".py",
   "mimetype": "text/x-python",
   "name": "python",
   "nbconvert_exporter": "python",
   "pygments_lexer": "ipython3",
   "version": "3.9.11"
  }
 },
 "nbformat": 4,
 "nbformat_minor": 5
}
